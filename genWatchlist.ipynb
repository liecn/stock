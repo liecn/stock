{
 "cells": [
  {
   "cell_type": "code",
   "execution_count": 54,
   "metadata": {},
   "outputs": [],
   "source": [
    "import yfinance as yf\n",
    "import utils as ut\n",
    "from pandas_datareader import data as pdr\n",
    "import pandas as pd\n",
    "from openpyxl import load_workbook\n"
   ]
  },
  {
   "cell_type": "code",
   "execution_count": 55,
   "metadata": {},
   "outputs": [
    {
     "name": "stdout",
     "output_type": "stream",
     "text": [
      "['actions', 'balance_sheet', 'balancesheet', 'calendar', 'cashflow', 'dividends', 'earnings', 'financials', 'info', 'institutional_holders', 'isin', 'major_holders', 'options', 'quarterly_balance_sheet', 'quarterly_balancesheet', 'quarterly_cashflow', 'quarterly_earnings', 'quarterly_financials', 'recommendations', 'splits', 'sustainability']\n"
     ]
    }
   ],
   "source": [
    "ut.property_list(yf.Ticker)"
   ]
  },
  {
   "cell_type": "code",
   "execution_count": 56,
   "metadata": {},
   "outputs": [],
   "source": [
    "metriclist=['MarketCap','PERatio_TTM','EPS_TTM','CurrentRatio', 'DebtRatio', 'ROS', 'ROE']\n",
    "## Initialization\n",
    "# watchlist_dic = {'INFORMATION TECHNOLOGY':['AAPL','MSFT','GOOG','FB'],\n",
    "#                  'CONSUMER DISCRETIONARY':['AMZN','HD','DIS'],\n",
    "#                  'FINANCIALS':['BRK-B','JPM','BAC'], \n",
    "#                  'REAL ESTATE':['AMT','PLD','SPG'],\n",
    "#                  'CONSUMER STAPLES':['WMT','PG','KO'],\n",
    "#                  'INDUSTRIALS':['UPS','LMT','BA'],\n",
    "#                  'ENERGY':['XOM','CVX','OXY'],\n",
    "#                  'HEALTH CARE':['JNJ','PFE','GILD']}\n",
    "\n",
    "## Please add the target stock code directly\n",
    "watchlist_dic = {'INFORMATION TECHNOLOGY':[],\n",
    "                 'CONSUMER DISCRETIONARY':[],\n",
    "                 'FINANCIALS':[], \n",
    "                 'REAL ESTATE':[],\n",
    "                 'CONSUMER STAPLES':[],\n",
    "                 'INDUSTRIALS':[],\n",
    "                 'ENERGY':[],\n",
    "                 'HEALTH CARE':[]}\n",
    "table_dic={}"
   ]
  },
  {
   "cell_type": "code",
   "execution_count": 57,
   "metadata": {},
   "outputs": [],
   "source": [
    "for key in watchlist_dic:\n",
    "#     print(key)\n",
    "    watchlist=watchlist_dic[key]\n",
    "    tickers = yf.Tickers(watchlist)\n",
    "    moneyList = pd.DataFrame(columns=metriclist)\n",
    "    try:\n",
    "        for index,stock_ID in enumerate(tickers.symbols): \n",
    "            ticker=tickers.tickers[index]\n",
    "            institutionalHolders=ticker.institutional_holders.iloc[:,1]\n",
    "            MarketCap=institutionalHolders[0]\n",
    "            PERatio_TTM=institutionalHolders[2]\n",
    "            EPS_TTM=institutionalHolders[3]\n",
    "            incomeStatement=ticker.financials.iloc[:,0]\n",
    "            balanceSheet=ticker.balancesheet.iloc[:,0]\n",
    "            cashFlow=ticker.cashflow.iloc[:,0]\n",
    "            CurrentRatio=balanceSheet.loc['Total Current Assets']/balanceSheet.loc['Total Current Liabilities']\n",
    "            DebtRatio=balanceSheet.loc['Total Liab']/balanceSheet.loc['Total Assets']\n",
    "            ROS=incomeStatement.loc['Net Income']/incomeStatement.loc['Total Revenue']\n",
    "            ROE=incomeStatement.loc['Net Income']/balanceSheet.loc['Total Stockholder Equity']\n",
    "            moneyList.loc[stock_ID] = {'MarketCap':MarketCap,'PERatio_TTM':PERatio_TTM,'EPS_TTM':EPS_TTM,'CurrentRatio':CurrentRatio, 'DebtRatio':DebtRatio, 'ROS': ROS, 'ROE': ROE}\n",
    "        table_dic[key] = moneyList\n",
    "    except (KeyError,IndexError) as err:\n",
    "            print (err,key,stock_ID)         "
   ]
  },
  {
   "cell_type": "code",
   "execution_count": 58,
   "metadata": {},
   "outputs": [],
   "source": [
    "# book = load_workbook('1.xlsx')\n",
    "# with pd.ExcelWriter('1.xlsx',mode='a',engine='openpyxl') as writer: \n",
    "#     for key in table_dic:\n",
    "#         ut.append_df_to_Excel('1.xlsx', table_dic[key], sheet_name=key)\n",
    "#         print(key)\n",
    "#         writer.book = book\n",
    "#         writer.sheets = dict((ws.title, ws) for ws in book.worksheets)\n",
    "#         table_dic[key].to_excel(writer, sheet_name=key)\n",
    "#     writer.save()\n",
    "# writer.close()"
   ]
  },
  {
   "cell_type": "code",
   "execution_count": 59,
   "metadata": {},
   "outputs": [],
   "source": [
    "for key in table_dic:\n",
    "        ut.append_df_to_Excel('watchlist.xlsx', table_dic[key], sheet_name=key,float_format=\"%.3f\")"
   ]
  },
  {
   "cell_type": "code",
   "execution_count": null,
   "metadata": {},
   "outputs": [],
   "source": []
  },
  {
   "cell_type": "code",
   "execution_count": null,
   "metadata": {},
   "outputs": [],
   "source": []
  }
 ],
 "metadata": {
  "kernelspec": {
   "display_name": "Python 3",
   "language": "python",
   "name": "python3"
  },
  "language_info": {
   "codemirror_mode": {
    "name": "ipython",
    "version": 3
   },
   "file_extension": ".py",
   "mimetype": "text/x-python",
   "name": "python",
   "nbconvert_exporter": "python",
   "pygments_lexer": "ipython3",
   "version": "3.8.5"
  }
 },
 "nbformat": 4,
 "nbformat_minor": 4
}